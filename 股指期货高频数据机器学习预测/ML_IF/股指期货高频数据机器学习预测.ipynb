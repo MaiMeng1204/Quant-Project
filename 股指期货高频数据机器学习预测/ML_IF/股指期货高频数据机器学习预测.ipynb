{
 "cells": [
  {
   "cell_type": "markdown",
   "metadata": {
    "_uuid": "f63604ae8bd8623d98d943a70170a97e8eb00a26"
   },
   "source": [
    "* FAT: Forget about time\n",
    "* Delta: Predict (x\\* - last MidPrice) rather than x\\*"
   ]
  },
  {
   "cell_type": "code",
   "execution_count": 1,
   "metadata": {
    "_cell_guid": "79c7e3d0-c299-4dcb-8224-4455121ee9b0",
    "_uuid": "d629ff2d2480ee46fbb7e2d37f6b5fab8052498a"
   },
   "outputs": [],
   "source": [
    "import numpy as np\n",
    "import pandas as pd\n",
    "import os\n",
    "import time\n",
    "\n",
    "import matplotlib.pyplot as plt\n",
    "%matplotlib inline\n",
    "\n",
    "from tensorflow.keras import regularizers\n",
    "from tensorflow.keras.models import Sequential\n",
    "from tensorflow.keras.layers import Dense, Dropout\n",
    "from tensorflow.keras.layers import LSTM\n",
    "\n",
    "from sklearn.preprocessing import StandardScaler"
   ]
  },
  {
   "cell_type": "code",
   "execution_count": 2,
   "metadata": {
    "_uuid": "d577f69d658795bc85bc0392de49d96f3828ac76"
   },
   "outputs": [],
   "source": [
    "nGiven = 10\n",
    "nPredict = 15\n",
    "nFeature = 7"
   ]
  },
  {
   "cell_type": "code",
   "execution_count": 4,
   "metadata": {
    "_uuid": "117726073abb8cca8a6e3583f230b16b67d0a933"
   },
   "outputs": [
    {
     "data": {
      "text/plain": [
       "'timestamp = []\\nfor i in range(nRows):\\n    dt = time.strptime(train_csv[\\'Date\\'][i] + \\' \\' + train_csv[\\'Time\\'][i], \"%Y-%m-%d %H:%M:%S\")\\n    dt_new = time.mktime(dt)\\n    timestamp.append(dt_new)'"
      ]
     },
     "execution_count": 4,
     "metadata": {},
     "output_type": "execute_result"
    }
   ],
   "source": [
    "train_csv = pd.read_csv('mdLog.csv', usecols=list(range(1, 7)))  # lastprice, volume, bidsize, bid, ask, asksize\n",
    "\n",
    "'''timestamp = []\n",
    "for i in range(nRows):\n",
    "    dt = time.strptime(train_csv['Date'][i] + ' ' + train_csv['Time'][i], \"%Y-%m-%d %H:%M:%S\")\n",
    "    dt_new = time.mktime(dt)\n",
    "    timestamp.append(dt_new)'''"
   ]
  },
  {
   "cell_type": "code",
   "execution_count": 5,
   "metadata": {
    "_uuid": "b0300d6bbbc637ad4b6e7d2b333891832f9b9990"
   },
   "outputs": [],
   "source": [
    "train_csv['midprice'] = (train_csv['ask'] + train_csv['bid']) / 2"
   ]
  },
  {
   "cell_type": "code",
   "execution_count": 6,
   "metadata": {
    "_uuid": "d4d3e7ce235383fc501a95da65c9d0e99b8a01c1"
   },
   "outputs": [],
   "source": [
    "mid_price = np.array(train_csv['midprice']).astype(np.float64)"
   ]
  },
  {
   "cell_type": "code",
   "execution_count": 7,
   "metadata": {
    "_uuid": "c1a2c84ccbc50d1f9aaa6cfdb5b75ec9bd53c3b7"
   },
   "outputs": [],
   "source": [
    "x_raw = np.array(train_csv.values).astype(np.float64)"
   ]
  },
  {
   "cell_type": "code",
   "execution_count": 8,
   "metadata": {
    "_uuid": "eb2c53b4a7b595d16ea049de416373c207b3a222"
   },
   "outputs": [
    {
     "name": "stdout",
     "output_type": "stream",
     "text": [
      "50000\r"
     ]
    }
   ],
   "source": [
    "X = []\n",
    "y = []\n",
    "\n",
    "fake_point = 0\n",
    "volume_sum = 0\n",
    "volume_len = 0\n",
    "\n",
    "noise_flag = True\n",
    "\n",
    "for k in range(len(train_csv) - nGiven - nPredict):\n",
    "    if k%10000==0:\n",
    "        print(k,end = '\\r')\n",
    "    x_cur = x_raw[k: k+nGiven].copy()\n",
    "    last_mp = x_cur[nGiven-1, -1]\n",
    "    # 将所有与Price相关的变量都减去并除以最后一条数组的中间价。这样就可以将量纲完全消除。\n",
    "    for axis in [-1, 0, 3, 4]: # MidPrice, LastPrice, BidPrice1, AskPrice1\n",
    "        x_cur[:,axis] -= last_mp\n",
    "        x_cur[:,axis] /= last_mp\n",
    "\n",
    "    # 将每一组Volume数据减去上一条信息的Volume，将这个特征转化为：3秒内累计成交数量。至此，每组/条数据的Volume便为同一分布了。\n",
    "    for i in range(nGiven-1, 0, -1):\n",
    "        x_cur[i, 1] -= x_cur[i-1, 1]\n",
    "        volume_sum += x_cur[i,1]\n",
    "        volume_len += 1\n",
    "    x_cur[0, 1] = volume_sum / volume_len  # 对于第一条数据，没有办法得知它与上一条数据（没有给出）的差值，只能用均值填充。具体方法是利用迄“今”（这条数据）为止得到的Volume插值的均值。\n",
    "    \n",
    "    if noise_flag:\n",
    "        x_cur *= (1 + 0.001 * (np.random.rand(nGiven, nFeature) - 0.5) * 2)  # 加入噪声\n",
    "    \n",
    "    #if timestamp[k+nGiven+nPredict] - timestamp[k]> (3*(nGiven+nPredict)): \n",
    "    #    fake_point+=1\n",
    "    #else:\n",
    "    #    token = True\n",
    "    #    for i in range(nGiven+nPredict-1):\n",
    "    #        if timestamp[k+1+i] - timestamp[k+i] != 3:\n",
    "    #            token = False\n",
    "    #            break\n",
    "    #    if token:\n",
    "    X.append(x_cur)\n",
    "    y.append((np.mean(mid_price[k+nGiven: k+nGiven+nPredict]) - mid_price[k+nGiven-1]) / mid_price[k+nGiven-1])\n",
    "    #    else:\n",
    "    #        fake_point+=1"
   ]
  },
  {
   "cell_type": "code",
   "execution_count": 13,
   "metadata": {
    "_uuid": "46d1c5db88d585276ec737d046753f2da9161447"
   },
   "outputs": [],
   "source": [
    "X = np.array(X).astype(np.float64)\n",
    "y = np.array(y).astype(np.float64)\n",
    "y = y.reshape((-1,1))"
   ]
  },
  {
   "cell_type": "code",
   "execution_count": 19,
   "metadata": {},
   "outputs": [
    {
     "data": {
      "text/plain": [
       "(50209, 10, 7)"
      ]
     },
     "execution_count": 19,
     "metadata": {},
     "output_type": "execute_result"
    }
   ],
   "source": [
    "X.shape"
   ]
  },
  {
   "cell_type": "code",
   "execution_count": 21,
   "metadata": {},
   "outputs": [
    {
     "data": {
      "text/plain": [
       "array([[[-3.73216029e-04,  3.79728558e+01,  4.54887803e+02,\n",
       "         -7.46897710e-04,  0.00000000e+00,  9.99109299e-01,\n",
       "         -3.73212320e-04],\n",
       "        [-3.73533189e-04,  0.00000000e+00,  4.55250168e+02,\n",
       "         -7.47139860e-04,  0.00000000e+00,  9.99234209e-01,\n",
       "         -3.73620511e-04],\n",
       "        [-7.46350508e-04,  5.79537883e+01,  5.18281661e+02,\n",
       "         -7.46462804e-04, -3.72987140e-04,  9.99641039e-01,\n",
       "         -5.60061739e-04],\n",
       "        [ 0.00000000e+00,  1.29875100e+01,  4.20379949e+01,\n",
       "         -3.73121639e-04,  0.00000000e+00,  4.40095317e+01,\n",
       "         -1.86708184e-04],\n",
       "        [ 0.00000000e+00,  3.90178064e+01,  1.63016964e+02,\n",
       "         -7.46988756e-04,  3.72931173e-04,  1.99800809e+00,\n",
       "         -1.86750009e-04],\n",
       "        [-3.73447198e-04,  9.89459552e+01,  1.74002333e+02,\n",
       "         -7.46824041e-04,  0.00000000e+00,  2.80018926e+01,\n",
       "         -3.73591594e-04],\n",
       "        [-3.73108745e-04,  7.60394322e+01,  3.85692401e+02,\n",
       "         -7.47285783e-04, -3.73309862e-04,  9.99279956e+00,\n",
       "         -5.59906941e-04],\n",
       "        [-3.73591696e-04,  0.00000000e+00,  3.84989624e+02,\n",
       "         -7.46754835e-04,  0.00000000e+00,  1.29975226e+01,\n",
       "         -3.73031721e-04],\n",
       "        [-3.73563702e-04,  1.00059853e+00,  7.00649277e+00,\n",
       "         -3.73367967e-04,  0.00000000e+00,  1.29894862e+01,\n",
       "         -1.86772327e-04],\n",
       "        [-3.73135926e-04,  5.59669700e+01,  8.40292656e+01,\n",
       "         -3.73309592e-04,  3.73425570e-04,  1.79990093e+01,\n",
       "          0.00000000e+00]]])"
      ]
     },
     "execution_count": 21,
     "metadata": {},
     "output_type": "execute_result"
    }
   ],
   "source": [
    "X[:1]"
   ]
  },
  {
   "cell_type": "markdown",
   "metadata": {},
   "source": [
    "降维以标准化"
   ]
  },
  {
   "cell_type": "code",
   "execution_count": 16,
   "metadata": {
    "_uuid": "32ee51110eeef1ebca31ea60b43d75fae5059186"
   },
   "outputs": [],
   "source": [
    "X_tmp = X.reshape(-1, nFeature)"
   ]
  },
  {
   "cell_type": "code",
   "execution_count": 18,
   "metadata": {},
   "outputs": [
    {
     "data": {
      "text/plain": [
       "(502090, 7)"
      ]
     },
     "execution_count": 18,
     "metadata": {},
     "output_type": "execute_result"
    }
   ],
   "source": [
    "X_tmp.shape"
   ]
  },
  {
   "cell_type": "code",
   "execution_count": 22,
   "metadata": {},
   "outputs": [
    {
     "data": {
      "text/plain": [
       "array([[-3.73216029e-04,  3.79728558e+01,  4.54887803e+02,\n",
       "        -7.46897710e-04,  0.00000000e+00,  9.99109299e-01,\n",
       "        -3.73212320e-04]])"
      ]
     },
     "execution_count": 22,
     "metadata": {},
     "output_type": "execute_result"
    }
   ],
   "source": [
    "X_tmp[:1]"
   ]
  },
  {
   "cell_type": "code",
   "execution_count": 23,
   "metadata": {
    "_uuid": "4f650e1b7c394a1c2af584ba91210c4d5c3f8d36"
   },
   "outputs": [],
   "source": [
    "x_scaler = StandardScaler()\n",
    "X_tmp_norm = x_scaler.fit_transform(X_tmp)  # 标准化"
   ]
  },
  {
   "cell_type": "markdown",
   "metadata": {},
   "source": [
    "恢复原来的维度"
   ]
  },
  {
   "cell_type": "code",
   "execution_count": 24,
   "metadata": {
    "_uuid": "b69898cec82f34fa3d08336704829fa413c6f1f2"
   },
   "outputs": [],
   "source": [
    "X_norm = X_tmp_norm.reshape(-1, nGiven, nFeature)"
   ]
  },
  {
   "cell_type": "code",
   "execution_count": 25,
   "metadata": {},
   "outputs": [
    {
     "data": {
      "text/plain": [
       "(50209, 10, 7)"
      ]
     },
     "execution_count": 25,
     "metadata": {},
     "output_type": "execute_result"
    }
   ],
   "source": [
    "X_norm.shape"
   ]
  },
  {
   "cell_type": "code",
   "execution_count": 26,
   "metadata": {
    "_uuid": "9d1b8a357a44c22a3329459edb8ad0d8f4ef9892"
   },
   "outputs": [],
   "source": [
    "if not noise_flag:\n",
    "    assert(X_norm[0][1][1]==X_norm[0][2][1])"
   ]
  },
  {
   "cell_type": "markdown",
   "metadata": {},
   "source": [
    "对于预测值的处理"
   ]
  },
  {
   "cell_type": "code",
   "execution_count": 27,
   "metadata": {
    "_uuid": "b5145980e6bd3cc2c851dcc96a0e1d09f862f932"
   },
   "outputs": [],
   "source": [
    "y_std = np.std(y)\n",
    "y_mean = np.mean(y)"
   ]
  },
  {
   "cell_type": "code",
   "execution_count": 28,
   "metadata": {
    "_uuid": "3d1cf3e813c9ffd4c9378f13b4a531ffce210508"
   },
   "outputs": [],
   "source": [
    "y_norm = (y - y_mean) / y_std"
   ]
  },
  {
   "cell_type": "code",
   "execution_count": 29,
   "metadata": {
    "_uuid": "8567cd49e44cce1410a591944ca7677b1912c1e8"
   },
   "outputs": [
    {
     "name": "stdout",
     "output_type": "stream",
     "text": [
      "(47698, 10, 7)\n",
      "(47698, 1)\n"
     ]
    }
   ],
   "source": [
    "from sklearn.model_selection import train_test_split\n",
    "X_train, X_test, y_train, y_test = train_test_split(X_norm, y_norm, test_size=0.05, random_state=42)\n",
    "print(X_train.shape)\n",
    "print(y_train.shape)"
   ]
  },
  {
   "cell_type": "code",
   "execution_count": 32,
   "metadata": {
    "_uuid": "c68f5595fd23386af16a2314403696b87190ea5a"
   },
   "outputs": [],
   "source": [
    "model = Sequential()\n",
    "model.add(LSTM(units=256, input_shape=(None, nFeature), dropout=0.5, return_sequences=True))\n",
    "model.add(LSTM(units=256, dropout=0.5, return_sequences=False))\n",
    "model.add(Dense(64, activation='relu'))\n",
    "model.add(Dropout(0.5))\n",
    "model.add(Dense(1, kernel_initializer=\"uniform\", activation='linear'))\n",
    "model.compile(loss='mse', optimizer='Adam')"
   ]
  },
  {
   "cell_type": "code",
   "execution_count": 31,
   "metadata": {
    "_uuid": "92fa69c9a9a09f74a0d67d986e816bb41f20a5ea"
   },
   "outputs": [],
   "source": [
    "batch_size = 128\n",
    "epochs = 12"
   ]
  },
  {
   "cell_type": "code",
   "execution_count": 34,
   "metadata": {
    "_uuid": "8044ed0d107f211c646af49824dda47a652f71f7"
   },
   "outputs": [
    {
     "name": "stdout",
     "output_type": "stream",
     "text": [
      "Epoch 1/12\n",
      "373/373 [==============================] - 14s 38ms/step - loss: 0.9137 - val_loss: 0.8721\n",
      "Epoch 2/12\n",
      "373/373 [==============================] - 20s 55ms/step - loss: 0.8924 - val_loss: 0.8489\n",
      "Epoch 3/12\n",
      "373/373 [==============================] - 28s 75ms/step - loss: 0.8871 - val_loss: 0.8345\n",
      "Epoch 4/12\n",
      "373/373 [==============================] - 13s 35ms/step - loss: 0.8786 - val_loss: 0.8301\n",
      "Epoch 5/12\n",
      "373/373 [==============================] - 13s 34ms/step - loss: 0.8697 - val_loss: 0.8209\n",
      "Epoch 6/12\n",
      "373/373 [==============================] - 13s 34ms/step - loss: 0.8614 - val_loss: 0.8296\n",
      "Epoch 7/12\n",
      "373/373 [==============================] - 13s 34ms/step - loss: 0.8593 - val_loss: 0.8471\n",
      "Epoch 8/12\n",
      "373/373 [==============================] - 13s 35ms/step - loss: 0.8597 - val_loss: 0.8341\n",
      "Epoch 9/12\n",
      "373/373 [==============================] - 13s 36ms/step - loss: 0.8565 - val_loss: 0.8270\n",
      "Epoch 10/12\n",
      "373/373 [==============================] - 13s 34ms/step - loss: 0.8496 - val_loss: 0.8325\n",
      "Epoch 11/12\n",
      "373/373 [==============================] - 13s 34ms/step - loss: 0.8449 - val_loss: 0.8161\n",
      "Epoch 12/12\n",
      "373/373 [==============================] - 13s 34ms/step - loss: 0.8425 - val_loss: 0.8251\n"
     ]
    }
   ],
   "source": [
    "hists = []\n",
    "hist = model.fit(X_train, y_train, \n",
    "                 epochs = epochs,\n",
    "                 batch_size = batch_size,\n",
    "                 validation_data=(X_test,y_test))\n",
    "hists.append(hist)"
   ]
  },
  {
   "cell_type": "code",
   "execution_count": 35,
   "metadata": {
    "_uuid": "a9737bb6301d4c947bc1733d2597c31f4756f7a0"
   },
   "outputs": [
    {
     "data": {
      "image/png": "[encoded data removed]",
      "text/plain": [
       "<Figure size 1440x720 with 1 Axes>"
      ]
     },
     "metadata": {
      "needs_background": "light"
     },
     "output_type": "display_data"
    }
   ],
   "source": [
    "hist_df = pd.concat([pd.DataFrame(hist.history) for hist in hists], sort=True)\n",
    "hist_df.index = np.arange(1, len(hist_df)+1)\n",
    "fig, axs = plt.subplots(nrows=1, sharex=True, figsize=(20, 10))\n",
    "axs.plot(hist_df['val_loss'], lw=5, label='Validation MSELoss')\n",
    "axs.plot(hist_df['loss'], lw=5, label='Training MSELoss')\n",
    "axs.set_ylabel('MSELoss')\n",
    "axs.set_xlabel('Epoch')\n",
    "axs.grid()\n",
    "axs.legend(loc=0)\n",
    "fig.savefig('hist.png', dpi=300)\n",
    "plt.show();"
   ]
  },
  {
   "cell_type": "code",
   "execution_count": null,
   "metadata": {
    "_uuid": "73820f4850574a8460d0ca32cb8c624868c87b44"
   },
   "outputs": [],
   "source": [
    "filename = os.path.join(INPUT_DIR, 'test_data.csv')\n",
    "test_csv = pd.read_csv(filename)"
   ]
  },
  {
   "cell_type": "code",
   "execution_count": null,
   "metadata": {
    "_uuid": "7c6bf7655e105133eca1ba030d7d498d2792679b"
   },
   "outputs": [],
   "source": [
    "nRows_test = 10000"
   ]
  },
  {
   "cell_type": "code",
   "execution_count": null,
   "metadata": {
    "_uuid": "f9774437893e698c268cc8a861a505f974a55b7a"
   },
   "outputs": [],
   "source": [
    "index = ['MidPrice','LastPrice','Volume','BidPrice1','BidVolume1','AskPrice1','AskVolume1']\n",
    "test_ds = test_csv[index]\n",
    "mid_price_test = np.array(test_csv['MidPrice']).astype(np.float64)\n",
    "x_test_raw = np.array(test_ds.values).astype(np.float64)"
   ]
  },
  {
   "cell_type": "code",
   "execution_count": null,
   "metadata": {
    "_uuid": "3085e4422ba3a55ec29d3464918aae39d90d4729"
   },
   "outputs": [],
   "source": [
    "X_test = []\n",
    "mid_price_batch_test = []\n",
    "volume_sum_test = 0\n",
    "volume_len_test = 0\n",
    "for k in range(int(nRows_test/nGiven)):\n",
    "    x_cur = x_test_raw[k*nGiven:k*nGiven+nGiven].copy()\n",
    "    last_mp = x_cur[nGiven-1,0]\n",
    "    for axis in [0,1,3,5]: # MidPrice, LastPrice, BidPrice1, AskPrice1\n",
    "        x_cur[:,axis] -= last_mp\n",
    "        x_cur[:,axis] /= last_mp\n",
    "\n",
    "    for i in range(9,0,-1):\n",
    "        x_cur[i,2]-=x_cur[i-1,2]\n",
    "        volume_sum_test+=x_cur[i,2]\n",
    "        volume_len_test+=1\n",
    "    x_cur[0,2]=volume_sum_test/volume_len_test\n",
    "    \n",
    "    X_test.append(x_cur)\n",
    "    mid_price_batch_test.append(mid_price_test[k*10+nGiven-1])"
   ]
  },
  {
   "cell_type": "code",
   "execution_count": null,
   "metadata": {
    "_uuid": "3e5797fe7e24bae3a4fe9063473f735273b77ed2"
   },
   "outputs": [],
   "source": [
    "X_test = np.array(X_test).astype(np.float64)\n",
    "X_test = X_test.reshape(-1,nGiven,nFeature)\n",
    "mid_price_batch_test = np.array(mid_price_batch_test).astype(np.float64).reshape(-1,1)"
   ]
  },
  {
   "cell_type": "code",
   "execution_count": null,
   "metadata": {
    "_uuid": "658805ba653045721bae51f694a215150d08f3dc"
   },
   "outputs": [],
   "source": [
    "X_tmp_test = X_test.reshape(-1,nFeature)\n",
    "X_tmp_norm_test = x_scaler.transform(X_tmp_test)\n",
    "X_norm_test = X_tmp_norm_test.reshape(-1,nGiven,nFeature)"
   ]
  },
  {
   "cell_type": "code",
   "execution_count": null,
   "metadata": {
    "_uuid": "f2893fd635e806e1a36a2b45fc39f6a1631c8837"
   },
   "outputs": [],
   "source": [
    "y_test_pred = model.predict(X_norm_test)"
   ]
  },
  {
   "cell_type": "code",
   "execution_count": null,
   "metadata": {
    "_uuid": "6568f4c31b7e2c4fc78f01ac5e11f967b4cb77d1"
   },
   "outputs": [],
   "source": [
    "y_test_pred = y_test_pred.reshape(-1,1)"
   ]
  },
  {
   "cell_type": "code",
   "execution_count": null,
   "metadata": {
    "_uuid": "c5f39b1538ba35fcf1af928570ba4167ceae0cfc"
   },
   "outputs": [],
   "source": [
    "result = y_test_pred * mid_price_batch_test * y_std + y_mean + mid_price_batch_test"
   ]
  },
  {
   "cell_type": "code",
   "execution_count": null,
   "metadata": {
    "_uuid": "fc49ccb59b7b06f41346c590cbf7c49143a3a568"
   },
   "outputs": [],
   "source": [
    "offset = 142"
   ]
  },
  {
   "cell_type": "code",
   "execution_count": null,
   "metadata": {
    "_uuid": "a1a79c78da8ce1288580851f5a9c9deb0b08d70d"
   },
   "outputs": [],
   "source": [
    "result_offset = result[offset:int(nRows_test/10)]"
   ]
  },
  {
   "cell_type": "code",
   "execution_count": null,
   "metadata": {
    "_uuid": "dba933b9d0e13e115411951cb501772d5303268c"
   },
   "outputs": [],
   "source": [
    "submission = pd.DataFrame({'caseid':list(range(offset+1,1001)),'midprice':result_offset.reshape(-1,)})"
   ]
  },
  {
   "cell_type": "code",
   "execution_count": null,
   "metadata": {
    "_uuid": "894c9ba874661c8b4dada6776a059ed77f4cd319"
   },
   "outputs": [],
   "source": [
    "submission.to_csv('submission', index=False)\n",
    "submission.head()"
   ]
  }
 ],
 "metadata": {
  "kernelspec": {
   "display_name": "Python 3",
   "language": "python",
   "name": "python3"
  },
  "language_info": {
   "codemirror_mode": {
    "name": "ipython",
    "version": 3
   },
   "file_extension": ".py",
   "mimetype": "text/x-python",
   "name": "python",
   "nbconvert_exporter": "python",
   "pygments_lexer": "ipython3",
   "version": "3.7.9"
  }
 },
 "nbformat": 4,
 "nbformat_minor": 4
}
